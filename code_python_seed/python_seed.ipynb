{
 "cells": [
  {
   "cell_type": "code",
   "execution_count": 1,
   "id": "da27e523",
   "metadata": {},
   "outputs": [],
   "source": [
    "import os\n",
    "from google.cloud import bigquery"
   ]
  },
  {
   "cell_type": "code",
   "execution_count": 3,
   "id": "b0ea8b53",
   "metadata": {},
   "outputs": [],
   "source": [
    "os.environ[\"GOOGLE_APPLICATION_CREDENTIALS\"] = \"cloudysenegalcours-3788e56d0c3b.json\"\n",
    "client = bigquery.Client()"
   ]
  },
  {
   "cell_type": "code",
   "execution_count": 9,
   "id": "af774d8b",
   "metadata": {},
   "outputs": [
    {
     "name": "stdout",
     "output_type": "stream",
     "text": [
      "Erreur lors de la suppression de la table : 404 DELETE https://bigquery.googleapis.com/bigquery/v2/projects/cloudysenegalcours/datasets/dbt_dev/tables/listings_airbnb_paris?prettyPrint=false: Not found: Table cloudysenegalcours:dbt_dev.listings_airbnb_paris\n"
     ]
    },
    {
     "ename": "BadRequest",
     "evalue": "400 Error while reading data, error message: Error detected while parsing row starting at position: 2096766. Error: Missing close quote character (\").",
     "output_type": "error",
     "traceback": [
      "\u001b[0;31m---------------------------------------------------------------------------\u001b[0m",
      "\u001b[0;31mBadRequest\u001b[0m                                Traceback (most recent call last)",
      "\u001b[0;32m/tmp/ipykernel_28713/3734028262.py\u001b[0m in \u001b[0;36m<module>\u001b[0;34m\u001b[0m\n\u001b[1;32m     32\u001b[0m     job_config=job_config)\n\u001b[1;32m     33\u001b[0m \u001b[0;34m\u001b[0m\u001b[0m\n\u001b[0;32m---> 34\u001b[0;31m     \u001b[0mjob\u001b[0m\u001b[0;34m.\u001b[0m\u001b[0mresult\u001b[0m\u001b[0;34m(\u001b[0m\u001b[0;34m)\u001b[0m\u001b[0;34m\u001b[0m\u001b[0;34m\u001b[0m\u001b[0m\n\u001b[0m\u001b[1;32m     35\u001b[0m \u001b[0;34m\u001b[0m\u001b[0m\n\u001b[1;32m     36\u001b[0m     \u001b[0mprint\u001b[0m\u001b[0;34m(\u001b[0m\u001b[0;34m'loaded {} rows into {} : {}.'\u001b[0m\u001b[0;34m.\u001b[0m\u001b[0mformat\u001b[0m\u001b[0;34m(\u001b[0m\u001b[0mjob\u001b[0m\u001b[0;34m.\u001b[0m\u001b[0moutput_rows\u001b[0m\u001b[0;34m,\u001b[0m \u001b[0mdataset_id\u001b[0m\u001b[0;34m,\u001b[0m \u001b[0mtable_id\u001b[0m\u001b[0;34m)\u001b[0m\u001b[0;34m)\u001b[0m\u001b[0;34m\u001b[0m\u001b[0;34m\u001b[0m\u001b[0m\n",
      "\u001b[0;32m~/.local/lib/python3.10/site-packages/google/cloud/bigquery/job/base.py\u001b[0m in \u001b[0;36mresult\u001b[0;34m(self, retry, timeout)\u001b[0m\n\u001b[1;32m    920\u001b[0m \u001b[0;34m\u001b[0m\u001b[0m\n\u001b[1;32m    921\u001b[0m         \u001b[0mkwargs\u001b[0m \u001b[0;34m=\u001b[0m \u001b[0;34m{\u001b[0m\u001b[0;34m}\u001b[0m \u001b[0;32mif\u001b[0m \u001b[0mretry\u001b[0m \u001b[0;32mis\u001b[0m \u001b[0mDEFAULT_RETRY\u001b[0m \u001b[0;32melse\u001b[0m \u001b[0;34m{\u001b[0m\u001b[0;34m\"retry\"\u001b[0m\u001b[0;34m:\u001b[0m \u001b[0mretry\u001b[0m\u001b[0;34m}\u001b[0m\u001b[0;34m\u001b[0m\u001b[0;34m\u001b[0m\u001b[0m\n\u001b[0;32m--> 922\u001b[0;31m         \u001b[0;32mreturn\u001b[0m \u001b[0msuper\u001b[0m\u001b[0;34m(\u001b[0m\u001b[0m_AsyncJob\u001b[0m\u001b[0;34m,\u001b[0m \u001b[0mself\u001b[0m\u001b[0;34m)\u001b[0m\u001b[0;34m.\u001b[0m\u001b[0mresult\u001b[0m\u001b[0;34m(\u001b[0m\u001b[0mtimeout\u001b[0m\u001b[0;34m=\u001b[0m\u001b[0mtimeout\u001b[0m\u001b[0;34m,\u001b[0m \u001b[0;34m**\u001b[0m\u001b[0mkwargs\u001b[0m\u001b[0;34m)\u001b[0m\u001b[0;34m\u001b[0m\u001b[0;34m\u001b[0m\u001b[0m\n\u001b[0m\u001b[1;32m    923\u001b[0m \u001b[0;34m\u001b[0m\u001b[0m\n\u001b[1;32m    924\u001b[0m     \u001b[0;32mdef\u001b[0m \u001b[0mcancelled\u001b[0m\u001b[0;34m(\u001b[0m\u001b[0mself\u001b[0m\u001b[0;34m)\u001b[0m\u001b[0;34m:\u001b[0m\u001b[0;34m\u001b[0m\u001b[0;34m\u001b[0m\u001b[0m\n",
      "\u001b[0;32m~/.local/lib/python3.10/site-packages/google/api_core/future/polling.py\u001b[0m in \u001b[0;36mresult\u001b[0;34m(self, timeout, retry, polling)\u001b[0m\n\u001b[1;32m    259\u001b[0m             \u001b[0;31m# pylint: disable=raising-bad-type\u001b[0m\u001b[0;34m\u001b[0m\u001b[0;34m\u001b[0m\u001b[0m\n\u001b[1;32m    260\u001b[0m             \u001b[0;31m# Pylint doesn't recognize that this is valid in this case.\u001b[0m\u001b[0;34m\u001b[0m\u001b[0;34m\u001b[0m\u001b[0m\n\u001b[0;32m--> 261\u001b[0;31m             \u001b[0;32mraise\u001b[0m \u001b[0mself\u001b[0m\u001b[0;34m.\u001b[0m\u001b[0m_exception\u001b[0m\u001b[0;34m\u001b[0m\u001b[0;34m\u001b[0m\u001b[0m\n\u001b[0m\u001b[1;32m    262\u001b[0m \u001b[0;34m\u001b[0m\u001b[0m\n\u001b[1;32m    263\u001b[0m         \u001b[0;32mreturn\u001b[0m \u001b[0mself\u001b[0m\u001b[0;34m.\u001b[0m\u001b[0m_result\u001b[0m\u001b[0;34m\u001b[0m\u001b[0;34m\u001b[0m\u001b[0m\n",
      "\u001b[0;31mBadRequest\u001b[0m: 400 Error while reading data, error message: Error detected while parsing row starting at position: 2096766. Error: Missing close quote character (\")."
     ]
    }
   ],
   "source": [
    "filename = \"/home/ousseynou/Bureau/Atos/Big_Data/dbt/ProjetDBTAtos/Projet/projet_final/projet_final_bg/seeds/listings_airbnb_paris.csv\"\n",
    "dataset_id = 'dbt_dev'\n",
    "table_id = 'listings_airbnb_paris'\n",
    "\n",
    " \n",
    "\n",
    "dataset_ref = client.dataset(dataset_id)\n",
    "table_ref = dataset_ref.table(table_id)\n",
    "\n",
    " # Obtenez une référence à la table que vous souhaitez supprimer\n",
    "table_ref = client.dataset(dataset_id).table(table_id)\n",
    "\n",
    "# Supprimez la table (si elle existe)\n",
    "try:\n",
    "    client.delete_table(table_ref)\n",
    "    print(f\"Table {dataset_id}.{table_id} supprimée avec succès.\")\n",
    "except Exception as e:\n",
    "    print(f\"Erreur lors de la suppression de la table : {e}\")\n",
    "\n",
    "job_config = bigquery.LoadJobConfig()\n",
    "job_config.source_format = bigquery.SourceFormat.CSV\n",
    "job_config.skip_leading_rows = 1\n",
    "job_config.autodetect = True\n",
    "\n",
    " \n",
    "\n",
    "with open(filename, 'rb') as source_file:\n",
    "    job = client.load_table_from_file(\n",
    "    source_file,\n",
    "    table_ref,\n",
    "    location='US',\n",
    "    job_config=job_config)\n",
    "\n",
    "    job.result()\n",
    "\n",
    "    print('loaded {} rows into {} : {}.'.format(job.output_rows, dataset_id, table_id))"
   ]
  },
  {
   "cell_type": "code",
   "execution_count": 8,
   "id": "a9d210a4",
   "metadata": {},
   "outputs": [
    {
     "name": "stdout",
     "output_type": "stream",
     "text": [
      "Table dbt_dev.hosts_airbnb_paris supprimée avec succès.\n",
      "loaded 46037 rows into dbt_dev : hosts_airbnb_paris.\n"
     ]
    }
   ],
   "source": [
    "filename = \"/home/ousseynou/Bureau/Atos/Big_Data/dbt/ProjetDBTAtos/Projet/projet_final/projet_final_bg/seeds/hosts_airbnb_paris.csv\"\n",
    "dataset_id = 'dbt_dev'\n",
    "table_id = 'hosts_airbnb_paris'\n",
    "\n",
    " \n",
    "\n",
    "dataset_ref = client.dataset(dataset_id)\n",
    "table_ref = dataset_ref.table(table_id)\n",
    "# Obtenez une référence à la table que vous souhaitez supprimer\n",
    "table_ref = client.dataset(dataset_id).table(table_id)\n",
    "\n",
    "# Supprimez la table (si elle existe)\n",
    "try:\n",
    "    client.delete_table(table_ref)\n",
    "    print(f\"Table {dataset_id}.{table_id} supprimée avec succès.\")\n",
    "except Exception as e:\n",
    "    print(f\"Erreur lors de la suppression de la table : {e}\")\n",
    "\n",
    "job_config = bigquery.LoadJobConfig()\n",
    "job_config.source_format = bigquery.SourceFormat.CSV\n",
    "job_config.skip_leading_rows = 1\n",
    "job_config.autodetect = True\n",
    "\n",
    " \n",
    "\n",
    "with open(filename, 'rb') as source_file:\n",
    "    job = client.load_table_from_file(\n",
    "    source_file,\n",
    "    table_ref,\n",
    "    location='US',\n",
    "    job_config=job_config)\n",
    "\n",
    "    job.result()\n",
    "\n",
    "    print('loaded {} rows into {} : {}.'.format(job.output_rows, dataset_id, table_id))"
   ]
  },
  {
   "cell_type": "code",
   "execution_count": null,
   "id": "8693a057",
   "metadata": {},
   "outputs": [],
   "source": []
  }
 ],
 "metadata": {
  "kernelspec": {
   "display_name": "Python 3 (ipykernel)",
   "language": "python",
   "name": "python3"
  },
  "language_info": {
   "codemirror_mode": {
    "name": "ipython",
    "version": 3
   },
   "file_extension": ".py",
   "mimetype": "text/x-python",
   "name": "python",
   "nbconvert_exporter": "python",
   "pygments_lexer": "ipython3",
   "version": "3.10.12"
  }
 },
 "nbformat": 4,
 "nbformat_minor": 5
}
